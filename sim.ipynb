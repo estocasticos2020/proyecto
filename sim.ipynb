{
  "nbformat": 4,
  "nbformat_minor": 0,
  "metadata": {
    "colab": {
      "name": "sim.ipynb",
      "provenance": [],
      "collapsed_sections": []
    },
    "kernelspec": {
      "name": "python3",
      "display_name": "Python 3"
    }
  },
  "cells": [
    {
      "cell_type": "code",
      "metadata": {
        "id": "iNKLJrQDYhGF"
      },
      "source": [
        "import random\n",
        "import matplotlib.pyplot as plt"
      ],
      "execution_count": 1,
      "outputs": []
    },
    {
      "cell_type": "markdown",
      "metadata": {
        "id": "CnA6MQGXYq3-"
      },
      "source": [
        "#Generar red aleatoria"
      ]
    },
    {
      "cell_type": "code",
      "metadata": {
        "id": "i-OAPd7XYmHp"
      },
      "source": [
        "def rand_network(n,m,p):\n",
        "    network = []\n",
        "    for i in range (0,n):\n",
        "        network.append([])\n",
        "        for j in range (0,m):\n",
        "            rand = random.random()\n",
        "            if rand<p:\n",
        "                network[i].append(True)\n",
        "                #el nodo esta conenctado\n",
        "            else:\n",
        "                network[i].append(False)\n",
        "                #el nodo esta desconectado\n",
        "\n",
        "    return network"
      ],
      "execution_count": 2,
      "outputs": []
    },
    {
      "cell_type": "code",
      "metadata": {
        "id": "YLEwOJ_QZBt3"
      },
      "source": [
        "#retorna las posiciones donde un nodo esta conectado en una fila\n",
        "def ret_row_true(network,row):\n",
        "    ans = []\n",
        "    for i in range (0,len(network[row])):\n",
        "        if network[row][i]:\n",
        "            ans.append([row,i])\n",
        "    return ans"
      ],
      "execution_count": 3,
      "outputs": []
    },
    {
      "cell_type": "markdown",
      "metadata": {
        "id": "8aVllIc8ZH0L"
      },
      "source": [
        "#Encontrar camino \n",
        "la función retorna verdadero si hay un camino a traves de la red desde un punto inicial, se van añadiendo todos los nodos a los que se puede accerder directamente desde el nodo inicial a una lista, despues se toman los nodos que se añadieron y se hace lo mismo hasta que se llega hasta lu ultima fila (hay camino) o ya no se puede avanzar mas."
      ]
    },
    {
      "cell_type": "code",
      "metadata": {
        "id": "wG9IHYBWZHbG"
      },
      "source": [
        "def find_path(network,visited,inicial,path):\n",
        "    j=0\n",
        "    rows= len (network)\n",
        "    columns= len(network[0])\n",
        "    while True:\n",
        "        try:\n",
        "            row = path[j][0]\n",
        "            column = path[j][1]\n",
        "            if path[j][0]==rows-1 and network[row][column]:\n",
        "                return True\n",
        "            if row-1>=0:\n",
        "                if network[row-1] [column] and not (str([row-1,column]) in visited):\n",
        "                    path.append([row-1,column])\n",
        "                    visited.add(str([row-1,column]))\n",
        "            if row+1<rows:\n",
        "                if network[row+1] [column] and not (str([row+1,column]) in visited):\n",
        "                    if row+1 == rows-1: return True\n",
        "                    path.append([row+1,column])\n",
        "                    visited.add(str([row+1,column]))\n",
        "            if column-1>=0:\n",
        "                if network[row] [column-1] and not (str([row,column-1]) in visited):\n",
        "                    path.append([row,column-1])\n",
        "                    visited.add(str([row,column-1]))\n",
        "            if column+1<columns:\n",
        "                if network[row] [column+1] and not (str([row,column+1]) in visited):\n",
        "                    path.append([row,column+1])\n",
        "                    visited.add(str([row,column+1]))\n",
        "            j+=1 \n",
        "        except: \n",
        "            break\n",
        "    return False\n"
      ],
      "execution_count": 4,
      "outputs": []
    },
    {
      "cell_type": "markdown",
      "metadata": {
        "id": "XrGC8imWZwTn"
      },
      "source": [
        "#Función simular \n",
        "Retorna true si hay un camino posible o false si no."
      ]
    },
    {
      "cell_type": "code",
      "metadata": {
        "id": "ZWb-EP8TYvfA"
      },
      "source": [
        "def simulate(network):\n",
        "    inicial = ret_row_true(network,0)\n",
        "    final = ret_row_true(network,len(network)-1)\n",
        "    if len(inicial)<=0 or len(final)<=0:\n",
        "        return False\n",
        "    for i in range(0,len(inicial)):\n",
        "        path = []\n",
        "        visited = set()\n",
        "        path.append(inicial[i])\n",
        "        visited.add(str(inicial[i]))\n",
        "        if find_path(network,visited,inicial,path):\n",
        "            return True\n",
        "    return False"
      ],
      "execution_count": 5,
      "outputs": []
    },
    {
      "cell_type": "markdown",
      "metadata": {
        "id": "u9n6pHW6aT-r"
      },
      "source": [
        "#Parámetros de la simulación\n",
        "En la siguiente celda es posible cambiar los parámetros de la simulación.\n",
        "Los parametros son:\n",
        "- Incremento de p: El incremento de p, p corresponde a la probabilidad de que un nodo esté disponible, el valor de p va desde 0 hasta 1 variando según el aumento.\n",
        "- Cantidad de simulaciones para cada p: La cantidad de veces que se va a simular para cada p.\n",
        "- Cantidad de filas: Cantidad de filas de la red.\n",
        "- Cantidad de columnas: Cantidad de columnas de la red.\n"
      ]
    },
    {
      "cell_type": "code",
      "metadata": {
        "id": "6G7hs7E9aDlp"
      },
      "source": [
        "increment = 0.001\n",
        "iterations = 200\n",
        "rows = 5\n",
        "columns = 5\n",
        "ans =[]\n",
        "ans.append([])\n",
        "ans.append([])\n",
        "p=0"
      ],
      "execution_count": 6,
      "outputs": []
    },
    {
      "cell_type": "markdown",
      "metadata": {
        "id": "hWKiVvhYbHb4"
      },
      "source": [
        "#Ejecutar simulación"
      ]
    },
    {
      "cell_type": "code",
      "metadata": {
        "id": "jEadvfiraLdz"
      },
      "source": [
        "for i in range (0, int(1/increment)+1):\n",
        "    aux=0\n",
        "    for j in range(0, iterations):        \n",
        "        #simular nueva red\n",
        "        network = rand_network(rows,columns,p)\n",
        "        if (simulate(network)):\n",
        "            #si hay un camino sumar uno \n",
        "            aux+=1\n",
        "    #p = numero de redes con camino / numero de redes simuladas\n",
        "    p_theta=aux/iterations\n",
        "    ans[0].append(p)\n",
        "    ans[1].append(p_theta)\n",
        "    p += increment \n"
      ],
      "execution_count": 7,
      "outputs": []
    },
    {
      "cell_type": "markdown",
      "metadata": {
        "id": "ezm12Y4CbPpg"
      },
      "source": [
        "#Resultado de la simulación\n",
        "En el siguiente gráfico se muestran los resultados de la simulación donde:  \n",
        "- p corresponde a la probabilidad de que un nodo este disponible.\n",
        "- theta(p) corresponde a la probabilidad de haya un camino a través de la red."
      ]
    },
    {
      "cell_type": "code",
      "metadata": {
        "colab": {
          "base_uri": "https://localhost:8080/",
          "height": 279
        },
        "id": "yarVemuWbPQA",
        "outputId": "bead3387-ac4e-42f6-84cd-392353a089a5"
      },
      "source": [
        "plt.plot(ans[0],ans[1])\n",
        "plt.ylabel(\"theta(p)\")\n",
        "plt.xlabel(\"p\")\n",
        "plt.grid()\n",
        "plt.xlim((0, 1))\n",
        "plt.show()"
      ],
      "execution_count": 8,
      "outputs": [
        {
          "output_type": "display_data",
          "data": {
            "image/png": "[encoded data removed]",
            "text/plain": [
              "<Figure size 432x288 with 1 Axes>"
            ]
          },
          "metadata": {
            "tags": [],
            "needs_background": "light"
          }
        }
      ]
    },
    {
      "cell_type": "markdown",
      "metadata": {
        "id": "3nu-EOlzdATM"
      },
      "source": [
        "#Ver theta(p) para un p determinado\n",
        "En la siguiente selda es posible modificar los parametros de la simulación para un p determinado."
      ]
    },
    {
      "cell_type": "code",
      "metadata": {
        "id": "n9KsCCC7c_3D"
      },
      "source": [
        "p = 0.5 \n",
        "iterations2 = 200000\n",
        "rows2 = 5\n",
        "columns2 = 5"
      ],
      "execution_count": 11,
      "outputs": []
    },
    {
      "cell_type": "markdown",
      "metadata": {
        "id": "1vG-6RsTgLcd"
      },
      "source": [
        "#Resultados"
      ]
    },
    {
      "cell_type": "code",
      "metadata": {
        "colab": {
          "base_uri": "https://localhost:8080/"
        },
        "id": "x4R9zqNJdsph",
        "outputId": "fa03bea9-9ede-4481-b4f6-5f85a7459d61"
      },
      "source": [
        "aux=0\n",
        "for j in range(0, iterations2):        \n",
        "  #simular nueva red\n",
        "  network = rand_network(rows2,columns2,p)\n",
        "  if (simulate(network)):\n",
        "    #si hay un camino sumar uno \n",
        "    aux+=1\n",
        "    #p = numero de redes con camino / numero de redes simuladas\n",
        "    p_theta=aux/iterations2\n",
        "print(\"p={}  theta(p)={}\".format(p,p_theta))"
      ],
      "execution_count": 12,
      "outputs": [
        {
          "output_type": "stream",
          "text": [
            "p=0.5  theta(p)=0.30033\n"
          ],
          "name": "stdout"
        }
      ]
    }
  ]
}